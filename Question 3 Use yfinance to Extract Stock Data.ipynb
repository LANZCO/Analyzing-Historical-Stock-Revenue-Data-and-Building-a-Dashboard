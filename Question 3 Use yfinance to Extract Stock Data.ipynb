{
  "nbformat": 4,
  "nbformat_minor": 0,
  "metadata": {
    "colab": {
      "provenance": []
    },
    "kernelspec": {
      "name": "python3",
      "display_name": "Python 3"
    },
    "language_info": {
      "name": "python"
    }
  },
  "cells": [
    {
      "cell_type": "code",
      "execution_count": 4,
      "metadata": {
        "colab": {
          "base_uri": "https://localhost:8080/"
        },
        "id": "215zFLw2LNJx",
        "outputId": "c38b491c-f26b-482c-858e-85bc5f340d74"
      },
      "outputs": [
        {
          "output_type": "stream",
          "name": "stdout",
          "text": [
            "                       Date   Open  High    Low  Close   Volume  Dividends  \\\n",
            "0 2023-10-31 00:00:00-04:00  12.85  13.9  12.82  13.77  4566900        0.0   \n",
            "\n",
            "   Stock Splits  \n",
            "0           0.0  \n"
          ]
        }
      ],
      "source": [
        "import yfinance as yf\n",
        "\n",
        "# 获取GameStop股票数据\n",
        "gme_data = yf.Ticker(\"GME\")\n",
        "\n",
        "# 获取历史数据\n",
        "gme_data = gme_data.history(period=\"1d\")\n",
        "\n",
        "# 重置索引\n",
        "gme_data.reset_index(inplace=True)\n",
        "\n",
        "# 保存数据\n",
        "gme_data.to_csv(\"gme_data.csv\", index=False)\n",
        "\n",
        "# 显示前五行\n",
        "print(gme_data.head())\n"
      ]
    }
  ]
}